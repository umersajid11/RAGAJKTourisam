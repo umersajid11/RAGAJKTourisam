{
  "nbformat": 4,
  "nbformat_minor": 0,
  "metadata": {
    "colab": {
      "provenance": [],
      "authorship_tag": "ABX9TyP9mqEG4dYpensVSAgZJsPC",
      "include_colab_link": true
    },
    "kernelspec": {
      "name": "python3",
      "display_name": "Python 3"
    },
    "language_info": {
      "name": "python"
    }
  },
  "cells": [
    {
      "cell_type": "markdown",
      "metadata": {
        "id": "view-in-github",
        "colab_type": "text"
      },
      "source": [
        "<a href=\"https://colab.research.google.com/github/umersajid11/RAGAJKTourisam/blob/main/hackathonepecversion_1.ipynb\" target=\"_parent\"><img src=\"https://colab.research.google.com/assets/colab-badge.svg\" alt=\"Open In Colab\"/></a>"
      ]
    },
    {
      "cell_type": "code",
      "execution_count": null,
      "metadata": {
        "collapsed": true,
        "id": "zMmrH5w4YmBM"
      },
      "outputs": [],
      "source": [
        "!pip install gradio langchain sentence-transformers groq huggingface-hub pyaudio numpy faiss-cpu PyPDF2 transformers"
      ]
    },
    {
      "cell_type": "code",
      "source": [
        "import PyPDF2\n",
        "\n",
        "def extract_text_from_pdf(pdf_path):\n",
        "    pdf_reader = PyPDF2.PdfReader(pdf_path)\n",
        "    text = \"\"\n",
        "    for page in pdf_reader.pages:\n",
        "        text += page.extract_text()\n",
        "    return text\n",
        "\n",
        "# Replace with the path to your dataset\n",
        "pdf_text = extract_text_from_pdf(\"/content/Dataset.pdf\")\n",
        "\n"
      ],
      "metadata": {
        "id": "OIr-qu8mgn-3"
      },
      "execution_count": null,
      "outputs": []
    },
    {
      "cell_type": "code",
      "source": [
        "from sentence_transformers import SentenceTransformer\n",
        "\n",
        "# Load pre-trained embedding model\n",
        "embedding_model = SentenceTransformer('all-MiniLM-L6-v2')\n",
        "\n",
        "# Chunk text into smaller sections\n",
        "def chunk_text(text, chunk_size=512):\n",
        "    return [text[i:i + chunk_size] for i in range(0, len(text), chunk_size)]\n",
        "\n",
        "chunks = chunk_text(pdf_text)\n",
        "chunk_embeddings = embedding_model.encode(chunks)\n"
      ],
      "metadata": {
        "id": "Ad31zE_Hv7B0"
      },
      "execution_count": null,
      "outputs": []
    },
    {
      "cell_type": "code",
      "source": [
        "import faiss\n",
        "import numpy as np\n",
        "\n",
        "# Create FAISS index\n",
        "dimension = chunk_embeddings.shape[1]\n",
        "index = faiss.IndexFlatL2(dimension)\n",
        "index.add(np.array(chunk_embeddings))\n"
      ],
      "metadata": {
        "id": "rLKJI6tZv_6j"
      },
      "execution_count": null,
      "outputs": []
    },
    {
      "cell_type": "code",
      "source": [
        "import os\n",
        "from groq import Groq\n",
        "\n",
        "os.environ[\"GROQ_API_KEY\"] = \"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\"\n",
        "client = Groq(api_key=os.environ[\"GROQ_API_KEY\"])\n",
        "\n",
        "def query_llama(prompt):\n",
        "    response = client.chat.completions.create(\n",
        "        messages=[{\"role\": \"user\", \"content\": prompt}],\n",
        "        model=\"llama3-70b-8192\",\n",
        "        stream=False,\n",
        "    )\n",
        "    return response.choices[0].message.content\n"
      ],
      "metadata": {
        "id": "Q1__0NU6wC3z"
      },
      "execution_count": null,
      "outputs": []
    },
    {
      "cell_type": "code",
      "source": [
        "def retrieve_context(query):\n",
        "    query_embedding = embedding_model.encode([query])\n",
        "    distances, indices = index.search(np.array(query_embedding), 1)\n",
        "    return chunks[indices[0][0]]\n",
        "\n",
        "def chatbot_response(query):\n",
        "    context = retrieve_context(query)\n",
        "    prompt = f\"Context: {context}\\nQuestion: {query}\\nAnswer:\"\n",
        "    return query_llama(prompt)\n"
      ],
      "metadata": {
        "id": "tuNP1_CywFv7"
      },
      "execution_count": null,
      "outputs": []
    },
    {
      "cell_type": "code",
      "source": [
        "import gradio as gr\n",
        "\n",
        "chat_history = []\n",
        "\n",
        "def chat_interface(user_query):\n",
        "    global chat_history\n",
        "    bot_response = chatbot_response(user_query)\n",
        "    chat_history.append((user_query, bot_response))\n",
        "    return chat_history\n",
        "\n",
        "with gr.Blocks() as demo:\n",
        "    with gr.Row():\n",
        "        gr.Markdown(\"### RAG Chatbot for AJK Tourism\")\n",
        "    with gr.Column():\n",
        "        chatbot = gr.Chatbot()\n",
        "        query = gr.Textbox(label=\"Your Query\")\n",
        "        submit_button = gr.Button(\"Submit\")\n",
        "\n",
        "    submit_button.click(chat_interface, inputs=query, outputs=chatbot)\n",
        "\n",
        "demo.launch()\n"
      ],
      "metadata": {
        "colab": {
          "base_uri": "https://localhost:8080/",
          "height": 680
        },
        "id": "7MOVGTg1wIIT",
        "outputId": "2b33a3cc-490c-4aa0-dadc-5845640a6908"
      },
      "execution_count": null,
      "outputs": [
        {
          "output_type": "stream",
          "name": "stderr",
          "text": [
            "/usr/local/lib/python3.10/dist-packages/gradio/components/chatbot.py:242: UserWarning: You have not specified a value for the `type` parameter. Defaulting to the 'tuples' format for chatbot messages, but this is deprecated and will be removed in a future version of Gradio. Please set type='messages' instead, which uses openai-style dictionaries with 'role' and 'content' keys.\n",
            "  warnings.warn(\n"
          ]
        },
        {
          "output_type": "stream",
          "name": "stdout",
          "text": [
            "Running Gradio in a Colab notebook requires sharing enabled. Automatically setting `share=True` (you can turn this off by setting `share=False` in `launch()` explicitly).\n",
            "\n",
            "Colab notebook detected. To show errors in colab notebook, set debug=True in launch()\n",
            "* Running on public URL: https://d8e1c17c0ab604948a.gradio.live\n",
            "\n",
            "This share link expires in 72 hours. For free permanent hosting and GPU upgrades, run `gradio deploy` from the terminal in the working directory to deploy to Hugging Face Spaces (https://huggingface.co/spaces)\n"
          ]
        },
        {
          "output_type": "display_data",
          "data": {
            "text/plain": [
              "<IPython.core.display.HTML object>"
            ],
            "text/html": [
              "<div><iframe src=\"https://d8e1c17c0ab604948a.gradio.live\" width=\"100%\" height=\"500\" allow=\"autoplay; camera; microphone; clipboard-read; clipboard-write;\" frameborder=\"0\" allowfullscreen></iframe></div>"
            ]
          },
          "metadata": {}
        },
        {
          "output_type": "execute_result",
          "data": {
            "text/plain": []
          },
          "metadata": {},
          "execution_count": 20
        }
      ]
    }
  ]
}